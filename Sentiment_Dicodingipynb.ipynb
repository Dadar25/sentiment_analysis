{
  "cells": [
    {
      "cell_type": "code",
      "execution_count": 3,
      "metadata": {
        "colab": {
          "base_uri": "https://localhost:8080/",
          "height": 1000
        },
        "id": "L_ueK59qGE-d",
        "outputId": "11265596-d2ea-425c-fd06-bfd46f23bc3a"
      },
      "outputs": [
        {
          "name": "stdout",
          "output_type": "stream",
          "text": [
            "Epoch 1/1000\n"
          ]
        },
        {
          "name": "stderr",
          "output_type": "stream",
          "text": [
            "c:\\Program Files\\Python311\\Lib\\site-packages\\keras\\src\\layers\\core\\embedding.py:90: UserWarning: Argument `input_length` is deprecated. Just remove it.\n",
            "  warnings.warn(\n"
          ]
        },
        {
          "name": "stdout",
          "output_type": "stream",
          "text": [
            "\u001b[1m233/233\u001b[0m \u001b[32m━━━━━━━━━━━━━━━━━━━━\u001b[0m\u001b[37m\u001b[0m \u001b[1m90s\u001b[0m 374ms/step - accuracy: 0.4479 - loss: 1.0566 - val_accuracy: 0.5427 - val_loss: 0.9372\n",
            "Epoch 2/1000\n",
            "\u001b[1m233/233\u001b[0m \u001b[32m━━━━━━━━━━━━━━━━━━━━\u001b[0m\u001b[37m\u001b[0m \u001b[1m83s\u001b[0m 355ms/step - accuracy: 0.5814 - loss: 0.8911 - val_accuracy: 0.6640 - val_loss: 0.8194\n",
            "Epoch 3/1000\n",
            "\u001b[1m233/233\u001b[0m \u001b[32m━━━━━━━━━━━━━━━━━━━━\u001b[0m\u001b[37m\u001b[0m \u001b[1m82s\u001b[0m 354ms/step - accuracy: 0.7000 - loss: 0.7493 - val_accuracy: 0.7323 - val_loss: 0.6918\n",
            "Epoch 4/1000\n",
            "\u001b[1m233/233\u001b[0m \u001b[32m━━━━━━━━━━━━━━━━━━━━\u001b[0m\u001b[37m\u001b[0m \u001b[1m80s\u001b[0m 344ms/step - accuracy: 0.7964 - loss: 0.5667 - val_accuracy: 0.7825 - val_loss: 0.6074\n",
            "Epoch 5/1000\n",
            "\u001b[1m233/233\u001b[0m \u001b[32m━━━━━━━━━━━━━━━━━━━━\u001b[0m\u001b[37m\u001b[0m \u001b[1m81s\u001b[0m 346ms/step - accuracy: 0.8439 - loss: 0.4626 - val_accuracy: 0.8073 - val_loss: 0.5535\n",
            "Epoch 6/1000\n",
            "\u001b[1m233/233\u001b[0m \u001b[32m━━━━━━━━━━━━━━━━━━━━\u001b[0m\u001b[37m\u001b[0m \u001b[1m81s\u001b[0m 348ms/step - accuracy: 0.8682 - loss: 0.3884 - val_accuracy: 0.8124 - val_loss: 0.5482\n",
            "Epoch 7/1000\n",
            "\u001b[1m233/233\u001b[0m \u001b[32m━━━━━━━━━━━━━━━━━━━━\u001b[0m\u001b[37m\u001b[0m \u001b[1m80s\u001b[0m 343ms/step - accuracy: 0.8922 - loss: 0.3251 - val_accuracy: 0.8102 - val_loss: 0.5446\n",
            "Epoch 8/1000\n",
            "\u001b[1m233/233\u001b[0m \u001b[32m━━━━━━━━━━━━━━━━━━━━\u001b[0m\u001b[37m\u001b[0m \u001b[1m80s\u001b[0m 342ms/step - accuracy: 0.8944 - loss: 0.3089 - val_accuracy: 0.8269 - val_loss: 0.5252\n",
            "Epoch 9/1000\n",
            "\u001b[1m233/233\u001b[0m \u001b[32m━━━━━━━━━━━━━━━━━━━━\u001b[0m\u001b[37m\u001b[0m \u001b[1m79s\u001b[0m 341ms/step - accuracy: 0.9015 - loss: 0.2912 - val_accuracy: 0.8280 - val_loss: 0.5002\n",
            "Epoch 10/1000\n",
            "\u001b[1m233/233\u001b[0m \u001b[32m━━━━━━━━━━━━━━━━━━━━\u001b[0m\u001b[37m\u001b[0m \u001b[1m78s\u001b[0m 336ms/step - accuracy: 0.9078 - loss: 0.2661 - val_accuracy: 0.8371 - val_loss: 0.5065\n",
            "Epoch 11/1000\n",
            "\u001b[1m233/233\u001b[0m \u001b[32m━━━━━━━━━━━━━━━━━━━━\u001b[0m\u001b[37m\u001b[0m \u001b[1m75s\u001b[0m 324ms/step - accuracy: 0.9179 - loss: 0.2358 - val_accuracy: 0.8341 - val_loss: 0.5314\n",
            "Epoch 12/1000\n",
            "\u001b[1m233/233\u001b[0m \u001b[32m━━━━━━━━━━━━━━━━━━━━\u001b[0m\u001b[37m\u001b[0m \u001b[1m75s\u001b[0m 322ms/step - accuracy: 0.9150 - loss: 0.2362 - val_accuracy: 0.8355 - val_loss: 0.5486\n",
            "Epoch 13/1000\n",
            "\u001b[1m233/233\u001b[0m \u001b[32m━━━━━━━━━━━━━━━━━━━━\u001b[0m\u001b[37m\u001b[0m \u001b[1m76s\u001b[0m 326ms/step - accuracy: 0.9195 - loss: 0.2262 - val_accuracy: 0.8427 - val_loss: 0.5169\n",
            "Epoch 14/1000\n",
            "\u001b[1m233/233\u001b[0m \u001b[32m━━━━━━━━━━━━━━━━━━━━\u001b[0m\u001b[37m\u001b[0m \u001b[1m83s\u001b[0m 354ms/step - accuracy: 0.9286 - loss: 0.2085 - val_accuracy: 0.8376 - val_loss: 0.5321\n",
            "Epoch 15/1000\n",
            "\u001b[1m233/233\u001b[0m \u001b[32m━━━━━━━━━━━━━━━━━━━━\u001b[0m\u001b[37m\u001b[0m \u001b[1m83s\u001b[0m 357ms/step - accuracy: 0.9198 - loss: 0.2203 - val_accuracy: 0.8339 - val_loss: 0.5356\n",
            "Epoch 16/1000\n",
            "\u001b[1m233/233\u001b[0m \u001b[32m━━━━━━━━━━━━━━━━━━━━\u001b[0m\u001b[37m\u001b[0m \u001b[1m81s\u001b[0m 346ms/step - accuracy: 0.9226 - loss: 0.2058 - val_accuracy: 0.8333 - val_loss: 0.5819\n",
            "Epoch 17/1000\n",
            "\u001b[1m233/233\u001b[0m \u001b[32m━━━━━━━━━━━━━━━━━━━━\u001b[0m\u001b[37m\u001b[0m \u001b[1m81s\u001b[0m 346ms/step - accuracy: 0.9282 - loss: 0.2006 - val_accuracy: 0.8438 - val_loss: 0.5480\n",
            "Epoch 18/1000\n",
            "\u001b[1m233/233\u001b[0m \u001b[32m━━━━━━━━━━━━━━━━━━━━\u001b[0m\u001b[37m\u001b[0m \u001b[1m80s\u001b[0m 343ms/step - accuracy: 0.9280 - loss: 0.2059 - val_accuracy: 0.8403 - val_loss: 0.5680\n",
            "Epoch 19/1000\n",
            "\u001b[1m233/233\u001b[0m \u001b[32m━━━━━━━━━━━━━━━━━━━━\u001b[0m\u001b[37m\u001b[0m \u001b[1m75s\u001b[0m 322ms/step - accuracy: 0.9271 - loss: 0.1978 - val_accuracy: 0.8366 - val_loss: 0.5784\n",
            "Epoch 20/1000\n",
            "\u001b[1m233/233\u001b[0m \u001b[32m━━━━━━━━━━━━━━━━━━━━\u001b[0m\u001b[37m\u001b[0m \u001b[1m75s\u001b[0m 321ms/step - accuracy: 0.9316 - loss: 0.1904 - val_accuracy: 0.8444 - val_loss: 0.6076\n",
            "Epoch 21/1000\n",
            "\u001b[1m233/233\u001b[0m \u001b[32m━━━━━━━━━━━━━━━━━━━━\u001b[0m\u001b[37m\u001b[0m \u001b[1m77s\u001b[0m 330ms/step - accuracy: 0.9291 - loss: 0.1909 - val_accuracy: 0.8403 - val_loss: 0.6013\n",
            "Epoch 22/1000\n",
            "\u001b[1m233/233\u001b[0m \u001b[32m━━━━━━━━━━━━━━━━━━━━\u001b[0m\u001b[37m\u001b[0m \u001b[1m80s\u001b[0m 342ms/step - accuracy: 0.9310 - loss: 0.1876 - val_accuracy: 0.8226 - val_loss: 0.7054\n",
            "Epoch 23/1000\n",
            "\u001b[1m233/233\u001b[0m \u001b[32m━━━━━━━━━━━━━━━━━━━━\u001b[0m\u001b[37m\u001b[0m \u001b[1m80s\u001b[0m 343ms/step - accuracy: 0.9241 - loss: 0.2131 - val_accuracy: 0.8398 - val_loss: 0.5963\n",
            "Epoch 24/1000\n",
            "\u001b[1m233/233\u001b[0m \u001b[32m━━━━━━━━━━━━━━━━━━━━\u001b[0m\u001b[37m\u001b[0m \u001b[1m80s\u001b[0m 345ms/step - accuracy: 0.9301 - loss: 0.1872 - val_accuracy: 0.8444 - val_loss: 0.6005\n",
            "Epoch 25/1000\n",
            "\u001b[1m233/233\u001b[0m \u001b[32m━━━━━━━━━━━━━━━━━━━━\u001b[0m\u001b[37m\u001b[0m \u001b[1m77s\u001b[0m 331ms/step - accuracy: 0.9365 - loss: 0.1736 - val_accuracy: 0.8398 - val_loss: 0.6317\n",
            "Epoch 26/1000\n",
            "\u001b[1m233/233\u001b[0m \u001b[32m━━━━━━━━━━━━━━━━━━━━\u001b[0m\u001b[37m\u001b[0m \u001b[1m79s\u001b[0m 340ms/step - accuracy: 0.9359 - loss: 0.1711 - val_accuracy: 0.8452 - val_loss: 0.6370\n",
            "Epoch 27/1000\n",
            "\u001b[1m233/233\u001b[0m \u001b[32m━━━━━━━━━━━━━━━━━━━━\u001b[0m\u001b[37m\u001b[0m \u001b[1m80s\u001b[0m 344ms/step - accuracy: 0.9342 - loss: 0.1788 - val_accuracy: 0.8411 - val_loss: 0.6587\n",
            "Epoch 28/1000\n",
            "\u001b[1m233/233\u001b[0m \u001b[32m━━━━━━━━━━━━━━━━━━━━\u001b[0m\u001b[37m\u001b[0m \u001b[1m80s\u001b[0m 345ms/step - accuracy: 0.9326 - loss: 0.1786 - val_accuracy: 0.8465 - val_loss: 0.6682\n",
            "Epoch 29/1000\n",
            "\u001b[1m233/233\u001b[0m \u001b[32m━━━━━━━━━━━━━━━━━━━━\u001b[0m\u001b[37m\u001b[0m \u001b[1m80s\u001b[0m 344ms/step - accuracy: 0.9404 - loss: 0.1587 - val_accuracy: 0.8417 - val_loss: 0.7038\n",
            "Epoch 30/1000\n",
            "\u001b[1m233/233\u001b[0m \u001b[32m━━━━━━━━━━━━━━━━━━━━\u001b[0m\u001b[37m\u001b[0m \u001b[1m75s\u001b[0m 323ms/step - accuracy: 0.9337 - loss: 0.1693 - val_accuracy: 0.8492 - val_loss: 0.6758\n",
            "Epoch 31/1000\n",
            "\u001b[1m233/233\u001b[0m \u001b[32m━━━━━━━━━━━━━━━━━━━━\u001b[0m\u001b[37m\u001b[0m \u001b[1m81s\u001b[0m 348ms/step - accuracy: 0.9343 - loss: 0.1790 - val_accuracy: 0.8481 - val_loss: 0.6372\n",
            "Epoch 32/1000\n",
            "\u001b[1m233/233\u001b[0m \u001b[32m━━━━━━━━━━━━━━━━━━━━\u001b[0m\u001b[37m\u001b[0m \u001b[1m80s\u001b[0m 341ms/step - accuracy: 0.9365 - loss: 0.1672 - val_accuracy: 0.8478 - val_loss: 0.7122\n",
            "Epoch 33/1000\n",
            "\u001b[1m233/233\u001b[0m \u001b[32m━━━━━━━━━━━━━━━━━━━━\u001b[0m\u001b[37m\u001b[0m \u001b[1m80s\u001b[0m 342ms/step - accuracy: 0.9394 - loss: 0.1622 - val_accuracy: 0.8363 - val_loss: 0.6701\n",
            "Epoch 34/1000\n",
            "\u001b[1m233/233\u001b[0m \u001b[32m━━━━━━━━━━━━━━━━━━━━\u001b[0m\u001b[37m\u001b[0m \u001b[1m81s\u001b[0m 347ms/step - accuracy: 0.9291 - loss: 0.1853 - val_accuracy: 0.8473 - val_loss: 0.6451\n",
            "Epoch 35/1000\n",
            "\u001b[1m233/233\u001b[0m \u001b[32m━━━━━━━━━━━━━━━━━━━━\u001b[0m\u001b[37m\u001b[0m \u001b[1m77s\u001b[0m 331ms/step - accuracy: 0.9400 - loss: 0.1588 - val_accuracy: 0.8438 - val_loss: 0.6927\n",
            "Epoch 36/1000\n",
            "\u001b[1m233/233\u001b[0m \u001b[32m━━━━━━━━━━━━━━━━━━━━\u001b[0m\u001b[37m\u001b[0m \u001b[1m79s\u001b[0m 340ms/step - accuracy: 0.9413 - loss: 0.1577 - val_accuracy: 0.8476 - val_loss: 0.6985\n",
            "Epoch 37/1000\n",
            "\u001b[1m233/233\u001b[0m \u001b[32m━━━━━━━━━━━━━━━━━━━━\u001b[0m\u001b[37m\u001b[0m \u001b[1m78s\u001b[0m 334ms/step - accuracy: 0.9365 - loss: 0.1662 - val_accuracy: 0.8465 - val_loss: 0.7125\n",
            "Epoch 38/1000\n",
            "\u001b[1m233/233\u001b[0m \u001b[32m━━━━━━━━━━━━━━━━━━━━\u001b[0m\u001b[37m\u001b[0m \u001b[1m78s\u001b[0m 334ms/step - accuracy: 0.9430 - loss: 0.1595 - val_accuracy: 0.8492 - val_loss: 0.7129\n",
            "Epoch 39/1000\n",
            "\u001b[1m233/233\u001b[0m \u001b[32m━━━━━━━━━━━━━━━━━━━━\u001b[0m\u001b[37m\u001b[0m \u001b[1m0s\u001b[0m 316ms/step - accuracy: 0.9425 - loss: 0.1568\n",
            "Validation accuracy reached 85.00%, stopping training.\n",
            "\u001b[1m233/233\u001b[0m \u001b[32m━━━━━━━━━━━━━━━━━━━━\u001b[0m\u001b[37m\u001b[0m \u001b[1m78s\u001b[0m 336ms/step - accuracy: 0.9425 - loss: 0.1568 - val_accuracy: 0.8543 - val_loss: 0.7385\n",
            "\u001b[1m117/117\u001b[0m \u001b[32m━━━━━━━━━━━━━━━━━━━━\u001b[0m\u001b[37m\u001b[0m \u001b[1m7s\u001b[0m 56ms/step\n",
            "Accuracy: 85.43%\n",
            "Classification Report:\n",
            "               precision    recall  f1-score   support\n",
            "\n",
            "    negative       0.86      0.87      0.86      1231\n",
            "     neutral       0.92      0.89      0.90      1232\n",
            "    positive       0.79      0.81      0.80      1257\n",
            "\n",
            "    accuracy                           0.85      3720\n",
            "   macro avg       0.86      0.85      0.86      3720\n",
            "weighted avg       0.86      0.85      0.85      3720\n",
            "\n"
          ]
        },
        {
          "data": {
            "image/png": "[encoded data removed]",
            "text/plain": [
              "<Figure size 1000x700 with 2 Axes>"
            ]
          },
          "metadata": {},
          "output_type": "display_data"
        }
      ],
      "source": [
        "import pandas as pd\n",
        "import numpy as np\n",
        "from sklearn.model_selection import train_test_split\n",
        "from sklearn.preprocessing import LabelEncoder\n",
        "from sklearn.metrics import accuracy_score, classification_report, confusion_matrix\n",
        "from imblearn.over_sampling import RandomOverSampler  # for oversampling\n",
        "import matplotlib.pyplot as plt\n",
        "import seaborn as sns\n",
        "from tensorflow.keras.models import Sequential\n",
        "from tensorflow.keras.layers import Dense, LSTM, Embedding, SpatialDropout1D, Bidirectional, GlobalMaxPooling1D, Dropout\n",
        "from tensorflow.keras.preprocessing.text import Tokenizer\n",
        "from tensorflow.keras.preprocessing.sequence import pad_sequences\n",
        "from tensorflow.keras.callbacks import Callback, ModelCheckpoint\n",
        "from tensorflow.keras.optimizers import Adam\n",
        "\n",
        "df = pd.read_csv('play_store_reviews.csv', encoding='utf-8')\n",
        "new_df = df.drop(columns=['reviewId', 'userName', 'userImage', 'thumbsUpCount', 'reviewCreatedVersion', 'at', 'replyContent', 'repliedAt', 'appVersion'])\n",
        "\n",
        "def sentiment_conversion(row):\n",
        "    if row['score'] == 3:\n",
        "        return 'neutral'\n",
        "    elif row['score'] > 3:\n",
        "        return 'positive'\n",
        "    elif row['score'] < 3:\n",
        "        return 'negative'\n",
        "\n",
        "# Apply sentiment conversion\n",
        "new_df['Sentiment'] = new_df.apply(sentiment_conversion, axis=1)\n",
        "\n",
        "new_df.head()\n",
        "new_df['Sentiment'].value_counts()\n",
        "\n",
        "# Separate input features and target labels\n",
        "X = new_df['content'].values.astype(str)\n",
        "y = new_df['Sentiment'].values\n",
        "\n",
        "# Encode sentiment labels\n",
        "le = LabelEncoder()\n",
        "y = le.fit_transform(y)\n",
        "\n",
        "# Tokenization and padding sequences for deep learning\n",
        "max_words = 10000\n",
        "max_len = 100\n",
        "\n",
        "tokenizer = Tokenizer(num_words=max_words, lower=True)\n",
        "tokenizer.fit_on_texts(X)\n",
        "X_seq = tokenizer.texts_to_sequences(X)\n",
        "X_pad = pad_sequences(X_seq, maxlen=max_len)\n",
        "\n",
        "# Oversample the dataset to balance the classes\n",
        "ros = RandomOverSampler(random_state=42)\n",
        "X_pad_res, y_res = ros.fit_resample(X_pad, y)\n",
        "\n",
        "# Split the oversampled dataset into training and validation sets (80% training, 20% validation)\n",
        "X_train, X_val, y_train, y_val = train_test_split(X_pad_res, y_res, test_size=0.2, random_state=42)\n",
        "\n",
        "# Build the LSTM model\n",
        "model = Sequential()\n",
        "model.add(Embedding(input_dim=max_words, output_dim=256, input_length=max_len))\n",
        "model.add(Bidirectional(LSTM(256, return_sequences=True)))\n",
        "model.add(GlobalMaxPooling1D())\n",
        "model.add(Dense(256, activation='relu'))\n",
        "model.add(Dropout(0.5))\n",
        "model.add(Dense(3, activation='softmax'))  # 3 output units for 3 classes\n",
        "\n",
        "# Compile the model\n",
        "optimizer = Adam(learning_rate=1e-4)\n",
        "model.compile(loss='sparse_categorical_crossentropy', optimizer=optimizer, metrics=['accuracy'])\n",
        "\n",
        "# Custom callback for stopping when val_accuracy reaches 86%\n",
        "class EarlyStopAtValAccuracy(Callback):\n",
        "    def __init__(self, accuracy=0.86):\n",
        "        super(EarlyStopAtValAccuracy, self).__init__()\n",
        "        self.accuracy = accuracy\n",
        "\n",
        "    def on_epoch_end(self, epoch, logs=None):\n",
        "        val_acc = logs.get(\"val_accuracy\")\n",
        "        if val_acc is not None and val_acc >= self.accuracy:\n",
        "            print(f\"\\nValidation accuracy reached {self.accuracy * 100:.2f}%, stopping training.\")\n",
        "            self.model.stop_training = True\n",
        "\n",
        "# Callbacks: EarlyStopping and ModelCheckpoint\n",
        "early_stop_acc = EarlyStopAtValAccuracy(accuracy=0.85)\n",
        "\n",
        "# Train the model\n",
        "history = model.fit(X_train, y_train, epochs=1000, batch_size=64, validation_data=(X_val, y_val), verbose=1,\n",
        "                    callbacks=[early_stop_acc])\n",
        "\n",
        "# Evaluate the model\n",
        "y_pred = np.argmax(model.predict(X_val), axis=-1)\n",
        "accuracy = accuracy_score(y_val, y_pred)\n",
        "print(f\"Accuracy: {accuracy * 100:.2f}%\")\n",
        "print(\"Classification Report:\\n\", classification_report(y_val, y_pred, target_names=le.classes_))\n",
        "\n",
        "# Confusion Matrix\n",
        "cm = confusion_matrix(y_val, y_pred)\n",
        "plt.figure(figsize=(10, 7))\n",
        "sns.heatmap(cm, annot=True, fmt='d', cmap='Blues', xticklabels=le.classes_, yticklabels=le.classes_)\n",
        "plt.xlabel('Predicted')\n",
        "plt.ylabel('Actual')\n",
        "plt.title('Confusion Matrix')\n",
        "plt.show()\n"
      ]
    },
    {
      "cell_type": "code",
      "execution_count": 7,
      "metadata": {
        "colab": {
          "base_uri": "https://localhost:8080/"
        },
        "id": "-9X_ygnoGX-P",
        "outputId": "bb10edba-0b75-4418-9d9d-972b644de3da"
      },
      "outputs": [
        {
          "name": "stdout",
          "output_type": "stream",
          "text": [
            "requirements.txt telah dibuat!\n"
          ]
        }
      ],
      "source": [
        "import os\n",
        "\n",
        "# Jalankan pip freeze dan simpan output ke file requirements.txt\n",
        "os.system('pip freeze > requirements.txt')\n",
        "\n",
        "print(\"requirements.txt telah dibuat!\")\n"
      ]
    },
    {
      "cell_type": "code",
      "execution_count": null,
      "metadata": {
        "id": "Z9dpAALrzXdA"
      },
      "outputs": [],
      "source": []
    }
  ],
  "metadata": {
    "colab": {
      "provenance": []
    },
    "kernelspec": {
      "display_name": "Python 3",
      "name": "python3"
    },
    "language_info": {
      "codemirror_mode": {
        "name": "ipython",
        "version": 3
      },
      "file_extension": ".py",
      "mimetype": "text/x-python",
      "name": "python",
      "nbconvert_exporter": "python",
      "pygments_lexer": "ipython3",
      "version": "3.11.0"
    }
  },
  "nbformat": 4,
  "nbformat_minor": 0
}
